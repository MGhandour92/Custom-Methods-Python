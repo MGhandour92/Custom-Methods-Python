{
 "nbformat": 4,
 "nbformat_minor": 2,
 "metadata": {
  "language_info": {
   "name": "python",
   "codemirror_mode": {
    "name": "ipython",
    "version": 3
   },
   "version": "3.7.1-final"
  },
  "orig_nbformat": 2,
  "file_extension": ".py",
  "mimetype": "text/x-python",
  "name": "python",
  "npconvert_exporter": "python",
  "pygments_lexer": "ipython3",
  "version": 3,
  "kernelspec": {
   "name": "python37164bit1bb6e815eed54d26b52d6b5077fa5e48",
   "display_name": "Python 3.7.1 64-bit"
  }
 },
 "cells": [
  {
   "cell_type": "markdown",
   "execution_count": null,
   "metadata": {},
   "outputs": [],
   "source": [
    "# Custom Find Fuction\n",
    "Build a Function that takes an input string and Character \n",
    "and returns the Index of everytime that Character Appears \n",
    "e.g. \n",
    "\n",
    "Input : 'abcabcabc' , 'c' \n",
    "\n",
    "Output :[2,5,8]\n"
   ]
  },
  {
   "cell_type": "markdown",
   "execution_count": null,
   "metadata": {},
   "outputs": [],
   "source": [
    "**DON'T USE:  function `find()` and  `set()`**"
   ]
  },
  {
   "cell_type": "code",
   "execution_count": 1,
   "metadata": {},
   "outputs": [
    {
     "data": {
      "text/plain": "[2, 5, 8]"
     },
     "execution_count": 1,
     "metadata": {},
     "output_type": "execute_result"
    }
   ],
   "source": [
    "\n",
    "def customFind (str1,chr1):\n",
    "    lst =[]\n",
    "    for c in range(0,len(str1)):\n",
    "        if str1[c] == chr1:\n",
    "            lst.append(c)\n",
    "    return lst\n",
    "\n",
    "customFind('abcabcabc','c')\n"
   ]
  },
  {
   "cell_type": "code",
   "execution_count": null,
   "metadata": {},
   "outputs": [],
   "source": []
  }
 ]
}