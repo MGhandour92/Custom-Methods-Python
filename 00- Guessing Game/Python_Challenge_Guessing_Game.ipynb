{
  "nbformat": 4,
  "nbformat_minor": 0,
  "metadata": {
    "kernelspec": {
      "display_name": "Python 3.7.1 64-bit",
      "language": "python",
      "name": "python37164bit1bb6e815eed54d26b52d6b5077fa5e48"
    },
    "language_info": {
      "codemirror_mode": {
        "name": "ipython",
        "version": 3
      },
      "file_extension": ".py",
      "mimetype": "text/x-python",
      "name": "python",
      "nbconvert_exporter": "python",
      "pygments_lexer": "ipython3",
      "version": "3.7.1-final"
    },
    "colab": {
      "name": "Python Challenge Guessing Game.ipynb",
      "provenance": []
    }
  },
  "cells": [
    {
      "cell_type": "markdown",
      "metadata": {
        "colab_type": "text",
        "id": "NQuOyznPahpH"
      },
      "source": [
        "# Guessing Game Challenge\n",
        "\n",
        "Let's use `while` loops to create a guessing game.\n",
        "\n",
        "The Challenge:\n",
        "\n",
        "Write a program that picks a random integer from 1 to 100, and has players guess the number. The rules are:\n",
        "\n",
        "1. If a player's guess is less than 1 or greater than 100, say \"OUT OF BOUNDS\"\n",
        "\n",
        "2. On all turns, if a guess is \n",
        " * closer to the number than the previous guess return \"Closer!\"\n",
        " * farther from the number than the previous guess, return \"Farther!\"\n",
        "3. When the player's guess equals the number, tell them they've guessed correctly *and* how many guesses it took!\n",
        "\n",
        "Now Lets o fro the Steps!"
      ]
    },
    {
      "cell_type": "markdown",
      "metadata": {
        "colab_type": "text",
        "id": "6K7SSiaEahpK"
      },
      "source": [
        "#### First, Build a Line of Code that can Return arandom integer from 1 to 100 and store this number in object called Actual"
      ]
    },
    {
      "cell_type": "code",
      "execution_count": 4,
      "metadata": {},
      "outputs": [
        {
          "data": {
            "text/plain": "31"
          },
          "execution_count": 4,
          "metadata": {},
          "output_type": "execute_result"
        }
      ],
      "source": [
        "#Type Your Code Here  - Replace None with Correct  Function  \n",
        "from random import randint\n",
        "\n",
        "Actual = randint(1,100) \n",
        "Actual"
      ]
    },
    {
      "cell_type": "markdown",
      "metadata": {
        "colab_type": "text",
        "id": "la65uFUjahpO"
      },
      "source": [
        "#### Next, build a Code to display an introduction to the Game to tell the user the Boundaries from 1 to 100 and what is his target."
      ]
    },
    {
      "cell_type": "code",
      "execution_count": 6,
      "metadata": {},
      "outputs": [
        {
          "name": "stdout",
          "output_type": "stream",
          "text": "\n    Write a program that picks a random integer from 1 to 100, and has players guess the number. The rules are:\n    If a player's guess is less than 1 or greater than 100, say \"OUT OF BOUNDS\"\n    On all turns, if a guess is\n    closer to the number than the previous guess return \"Closer!\"\n    farther from the number than the previous guess, return \"Farther!\"\n    When the player's guess equals the number, tell them they've guessed correctly and how many guesses it took!\n    Now Lets o fro the Steps!\n    \n"
        }
      ],
      "source": [
        "#Type Your Code here \n",
        "print(\n",
        "    '''\n",
        "    Write a program that picks a random integer from 1 to 100, and has players guess the number. The rules are:\n",
        "    If a player's guess is less than 1 or greater than 100, say \"OUT OF BOUNDS\"\n",
        "    On all turns, if a guess is\n",
        "    closer to the number than the previous guess return \"Closer!\"\n",
        "    farther from the number than the previous guess, return \"Farther!\"\n",
        "    When the player's guess equals the number, tell them they've guessed correctly and how many guesses it took!\n",
        "    Now Lets o fro the Steps!\n",
        "    '''\n",
        ")"
      ]
    },
    {
      "cell_type": "markdown",
      "metadata": {
        "colab_type": "text",
        "id": "GyW_z6Sf74yG"
      },
      "source": [
        "### Next, Build a Code that takes an integer input from the user "
      ]
    },
    {
      "cell_type": "code",
      "execution_count": 36,
      "metadata": {},
      "outputs": [],
      "source": [
        "#Type Your Code Here - Replace None With Correct Function \n",
        "Guess= input('Enter your Guess') "
      ]
    },
    {
      "cell_type": "markdown",
      "metadata": {
        "colab_type": "text",
        "id": "BHsh0slo834l"
      },
      "source": [
        "### Next, Put the Upper Cell in A Loop that keeps checking if the Number is Out of Bounds or Not  "
      ]
    },
    {
      "cell_type": "code",
      "execution_count": 72,
      "metadata": {},
      "outputs": [
        {
          "name": "stdout",
          "output_type": "stream",
          "text": "OUT OF BOUNDS, Enter next guess\n1\nIn Bounds, great!\n2\n"
        }
      ],
      "source": [
        "#Replace None Values with correct conditions or Booleans\n",
        "counter =0\n",
        "while(Guess.isdigit()== True):\n",
        "  counter += 1\n",
        "  Guess = input('Enter your Guess')\n",
        "  # Take input from user \n",
        "  if int(Guess) >= 1 and  int(Guess) <= 100:\n",
        "  # if right then print something\n",
        "    print('In Bounds, great!') \n",
        "    print(counter)\n",
        "    break\n",
        "  #and if not print another thing \n",
        "  else:\n",
        "    print('OUT OF BOUNDS, Enter next guess')\n",
        "    print(counter)"
      ]
    },
    {
      "cell_type": "code",
      "metadata": {
        "colab_type": "text",
        "id": "d-USlvx8dNak"
      },
      "source": [
        "### Next, Build a Code that Check if the Guess is equal to the Actual Random Number"
      ]
    },
    {
      "cell_type": "code",
      "execution_count": 65,
      "metadata": {},
      "outputs": [],
      "source": [
        "guesses= None #Make it an Empty List \n",
        "#Change None to Correct Boolean between\n",
        "if  int(Guess) == int(Actual) :\n",
        "  print (\"Wow, you've guessed Correctly this time\") #Fix \n",
        "  'You have guessed it in {} times'.format(counter) # Put function that calculate the Real Number of Guesses "
      ]
    },
    {
      "cell_type": "markdown",
      "metadata": {
        "colab_type": "text",
        "id": "VWNf49z6WVek"
      },
      "source": [
        "### Next, Build a Code that Check on Each Guess whether its closer than the Previous Guess or not."
      ]
    },
    {
      "cell_type": "code",
      "execution_count": 0,
      "metadata": {
        "colab": {},
        "colab_type": "code",
        "id": "O7McDw6pbVfX"
      },
      "outputs": [],
      "source": [
        "\n",
        "while(None):\n",
        "  if  None :\n",
        "    print(' you are closer to target ')\n",
        "  print(' you are far from the target ')\n",
        "\n"
      ]
    },
    {
      "cell_type": "markdown",
      "metadata": {
        "colab_type": "text",
        "id": "v-wMuTZLahpY"
      },
      "source": [
        "#### Write a `while` loop that compares the player's guess to our number. If the player guesses correctly, break from the loop. Otherwise, tell the player if they're Closer or Farer , and continue asking for guesses.\n",
        "\n",
        "**Try to Collect All the cells you 've made above and use it here**\n",
        "\n",
        "Hint:\n",
        "\n",
        "\n",
        "* you can use the `abs()` function to find the positive difference between two numbers\n",
        "\n",
        "\n",
        "# Decomposition \n",
        "\n",
        "*   Choosing Random Number\n",
        "*   Game Intro for the User\n",
        "*   Checking on the Inserted Guess if its in boundary or not\n",
        "*   Checking on the Inserted Guess if its equal to the Random Number or Not\n",
        "*   Checking on the Inserted Guess if its Far or Close from the Previous Guess.\n",
        "\n",
        "\n",
        "\n"
      ]
    },
    {
      "cell_type": "code",
      "execution_count": 67,
      "metadata": {},
      "outputs": [],
      "source": [
        "# Type your Final Code here\n",
        "\n"
      ]
    },
    {
      "cell_type": "code",
      "execution_count": 0,
      "metadata": {
        "colab": {},
        "colab_type": "code",
        "id": "3WmFudWAl7gi"
      },
      "outputs": [],
      "source": [
        "# Type here the Big Loop\n",
        "while None :\n",
        "  continue "
      ]
    },
    {
      "cell_type": "markdown",
      "metadata": {
        "colab_type": "text",
        "id": "5UZ7l5wEahpb"
      },
      "source": [
        "That's it! You've just programmed your first game!\n",
        "\n",
        "In the next section we'll learn how to turn some of these repetitive actions into *functions* that can be called whenever we need them."
      ]
    },
    {
      "cell_type": "markdown",
      "metadata": {
        "colab_type": "text",
        "id": "HlHfgyZ9ahpc"
      },
      "source": [
        "### Good Job!"
      ]
    }
  ]
}