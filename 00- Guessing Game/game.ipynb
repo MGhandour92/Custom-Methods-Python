{
 "nbformat": 4,
 "nbformat_minor": 2,
 "metadata": {
  "language_info": {
   "name": "python",
   "codemirror_mode": {
    "name": "ipython",
    "version": 3
   },
   "version": "3.8.2-final"
  },
  "orig_nbformat": 2,
  "file_extension": ".py",
  "mimetype": "text/x-python",
  "name": "python",
  "npconvert_exporter": "python",
  "pygments_lexer": "ipython3",
  "version": 3,
  "kernelspec": {
   "name": "python38264bitvenvvenv704f536f67f5451589d39d96e692c01f",
   "display_name": "Python 3.8.2 64-bit ('.venv': venv)"
  }
 },
 "cells": [
  {
   "cell_type": "code",
   "execution_count": 1,
   "metadata": {
    "tags": []
   },
   "outputs": [
    {
     "output_type": "stream",
     "name": "stdout",
     "text": "act = 23\nYou are Far, Enter next guess\n\nYou are Close, Enter next guess\n\nWow, you've guessed Correctly this time\nYou have guessed it in 2 times\n\n"
    }
   ],
   "source": [
    "#Imports\n",
    "from random import randint\n",
    "\n",
    "# Variables - Constants\n",
    "#---------------------------\n",
    "Actual = randint(1,100) \n",
    "Guess = '' \n",
    "guesses = 0\n",
    "print('act = '+ str(Actual))\n",
    "#---------------------------\n",
    "\n",
    "while(Guess != Actual):\n",
    "    Guess = int(input(\"Guess the number\")) \n",
    "    if Guess == Actual:\n",
    "        print (\"Wow, you've guessed Correctly this time\") \n",
    "        print ('You have guessed it in {} times\\n'.format(guesses))\n",
    "        break\n",
    "\n",
    "    elif Guess >= 1 and Guess <= 100:\n",
    "        if abs(Actual - Guess) <= 10:\n",
    "            print (\"You are Close, Enter next guess\\n\")\n",
    "        elif abs(Actual - Guess) >= 10:\n",
    "            print (\"You are Far, Enter next guess\\n\")\n",
    "\n",
    "    else:\n",
    "        print('OUT OF BOUNDS, Enter next guess\\n')\n",
    "        \n",
    "    guesses +=1\n",
    "   "
   ]
  },
  {
   "cell_type": "code",
   "execution_count": null,
   "metadata": {},
   "outputs": [],
   "source": []
  }
 ]
}