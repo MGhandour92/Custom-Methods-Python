{
 "nbformat": 4,
 "nbformat_minor": 2,
 "metadata": {
  "language_info": {
   "name": "python",
   "codemirror_mode": {
    "name": "ipython",
    "version": 3
   },
   "version": "3.7.1-final"
  },
  "orig_nbformat": 2,
  "file_extension": ".py",
  "mimetype": "text/x-python",
  "name": "python",
  "npconvert_exporter": "python",
  "pygments_lexer": "ipython3",
  "version": 3,
  "kernelspec": {
   "name": "python37164bit1bb6e815eed54d26b52d6b5077fa5e48",
   "display_name": "Python 3.7.1 64-bit"
  }
 },
 "cells": [
  {
   "cell_type": "markdown",
   "execution_count": null,
   "metadata": {},
   "outputs": [],
   "source": [
    "# Custom Split Function\n",
    "\n",
    "Build a Customized Split Function with **two Options **\n",
    "\n",
    "\n",
    "---\n",
    "\n",
    "\n",
    "\n",
    "\n",
    "> ***Option One :*** Splitting at first Occurance Only\n",
    "\n",
    "Input: 'Abo Khayria byslem 3lyk', 'b'\n",
    "\n",
    "Output :  ['A','o Khayria byslem 3lyk']\n",
    "\n",
    "\n",
    "---\n",
    "\n",
    "\n",
    "\n",
    "> ***Option two :*** Splitting  Every time the Character Appears\n",
    "\n",
    "\n",
    "Input: 'Abo Khayria byslem 3lyk', 'b'\n",
    "\n",
    "Output :  ['A','o Khayria ','yslem 3lyk']\n",
    "\n",
    "\n",
    "---\n",
    "\n",
    "\n",
    "\n",
    "\n",
    "### Don't Use `split` function , you are allowed to grab your Customized Find Function"
   ]
  },
  {
   "cell_type": "code",
   "execution_count": 1,
   "metadata": {},
   "outputs": [
    {
     "name": "stdout",
     "output_type": "stream",
     "text": "['A', 'o Khayria byslem 3lyk']\n['A', 'o Khayria ', 'yslem 3lyk']\n"
    }
   ],
   "source": [
    "def customSplit(s, c, opt):\n",
    "    splitted = []\n",
    "    tmpText = ''\n",
    "    counter = 0\n",
    "\n",
    "    if opt == 1:\n",
    "        for x in s:            \n",
    "            if x == c and counter != 1:\n",
    "                counter +=1\n",
    "                splitted.append(tmpText)\n",
    "                tmpText = ''\n",
    "            else:\n",
    "                tmpText += x\n",
    "\n",
    "        if tmpText:\n",
    "            splitted.append(tmpText)\n",
    "\n",
    "    elif opt == 2:\n",
    "        for x in s:\n",
    "            if x == c:\n",
    "                splitted.append(tmpText)\n",
    "                tmpText = ''\n",
    "            else:\n",
    "                tmpText += x\n",
    "        if tmpText:\n",
    "            splitted.append(tmpText)\n",
    "\n",
    "    return splitted\n",
    "\n",
    "\n",
    "print(customSplit('Abo Khayria byslem 3lyk', 'b', 1))\n",
    "print(customSplit('Abo Khayria byslem 3lyk', 'b', 2))"
   ]
  },
  {
   "cell_type": "code",
   "execution_count": null,
   "metadata": {},
   "outputs": [],
   "source": []
  }
 ]
}